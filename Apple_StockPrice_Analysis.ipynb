{
 "cells": [
  {
   "cell_type": "code",
   "execution_count": 5,
   "id": "23743876",
   "metadata": {},
   "outputs": [
    {
     "name": "stdout",
     "output_type": "stream",
     "text": [
      "Requirement already satisfied: pandas_datareader in c:\\users\\admin\\anaconda3\\lib\\site-packages (0.10.0)\n",
      "Requirement already satisfied: lxml in c:\\users\\admin\\anaconda3\\lib\\site-packages (from pandas_datareader) (4.9.3)\n",
      "Requirement already satisfied: pandas>=0.23 in c:\\users\\admin\\anaconda3\\lib\\site-packages (from pandas_datareader) (1.4.2)\n",
      "Requirement already satisfied: requests>=2.19.0 in c:\\users\\admin\\anaconda3\\lib\\site-packages (from pandas_datareader) (2.31.0)\n",
      "Requirement already satisfied: python-dateutil>=2.8.1 in c:\\users\\admin\\anaconda3\\lib\\site-packages (from pandas>=0.23->pandas_datareader) (2.8.2)\n",
      "Requirement already satisfied: pytz>=2020.1 in c:\\users\\admin\\anaconda3\\lib\\site-packages (from pandas>=0.23->pandas_datareader) (2023.3.post1)\n",
      "Requirement already satisfied: numpy>=1.18.5 in c:\\users\\admin\\anaconda3\\lib\\site-packages (from pandas>=0.23->pandas_datareader) (1.22.4)\n",
      "Requirement already satisfied: charset-normalizer<4,>=2 in c:\\users\\admin\\anaconda3\\lib\\site-packages (from requests>=2.19.0->pandas_datareader) (2.0.4)\n",
      "Requirement already satisfied: idna<4,>=2.5 in c:\\users\\admin\\anaconda3\\lib\\site-packages (from requests>=2.19.0->pandas_datareader) (3.3)\n",
      "Requirement already satisfied: urllib3<3,>=1.21.1 in c:\\users\\admin\\anaconda3\\lib\\site-packages (from requests>=2.19.0->pandas_datareader) (1.26.16)\n",
      "Requirement already satisfied: certifi>=2017.4.17 in c:\\users\\admin\\anaconda3\\lib\\site-packages (from requests>=2.19.0->pandas_datareader) (2021.10.8)\n",
      "Requirement already satisfied: six>=1.5 in c:\\users\\admin\\anaconda3\\lib\\site-packages (from python-dateutil>=2.8.1->pandas>=0.23->pandas_datareader) (1.16.0)\n"
     ]
    },
    {
     "name": "stderr",
     "output_type": "stream",
     "text": [
      "WARNING: Ignoring invalid distribution -rotobuf (c:\\users\\admin\\anaconda3\\lib\\site-packages)\n",
      "WARNING: Ignoring invalid distribution -rotobuf (c:\\users\\admin\\anaconda3\\lib\\site-packages)\n"
     ]
    }
   ],
   "source": [
    "!pip install pandas_datareader"
   ]
  },
  {
   "cell_type": "code",
   "execution_count": 6,
   "id": "77137019",
   "metadata": {},
   "outputs": [
    {
     "name": "stdout",
     "output_type": "stream",
     "text": [
      "Collecting yfinance\n",
      "  Obtaining dependency information for yfinance from https://files.pythonhosted.org/packages/60/bf/70efe5138327c7ccf34f0a870ac97d41d3c06fecb2ec8dc2060ff39aadc9/yfinance-0.2.30-py2.py3-none-any.whl.metadata\n",
      "  Using cached yfinance-0.2.30-py2.py3-none-any.whl.metadata (11 kB)\n",
      "Requirement already satisfied: pandas>=1.3.0 in c:\\users\\admin\\anaconda3\\lib\\site-packages (from yfinance) (1.4.2)\n",
      "Requirement already satisfied: numpy>=1.16.5 in c:\\users\\admin\\anaconda3\\lib\\site-packages (from yfinance) (1.22.4)\n",
      "Requirement already satisfied: requests>=2.31 in c:\\users\\admin\\anaconda3\\lib\\site-packages (from yfinance) (2.31.0)\n",
      "Requirement already satisfied: multitasking>=0.0.7 in c:\\users\\admin\\anaconda3\\lib\\site-packages (from yfinance) (0.0.11)\n",
      "Note: you may need to restart the kernel to use updated packages.\n"
     ]
    },
    {
     "name": "stderr",
     "output_type": "stream",
     "text": [
      "WARNING: Ignoring invalid distribution -rotobuf (c:\\users\\admin\\anaconda3\\lib\\site-packages)\n",
      "WARNING: Ignoring invalid distribution -rotobuf (c:\\users\\admin\\anaconda3\\lib\\site-packages)\n"
     ]
    },
    {
     "name": "stdout",
     "output_type": "stream",
     "text": [
      "Requirement already satisfied: lxml>=4.9.1 in c:\\users\\admin\\anaconda3\\lib\\site-packages (from yfinance) (4.9.3)\n",
      "Requirement already satisfied: appdirs>=1.4.4 in c:\\users\\admin\\anaconda3\\lib\\site-packages (from yfinance) (1.4.4)\n",
      "Requirement already satisfied: pytz>=2022.5 in c:\\users\\admin\\anaconda3\\lib\\site-packages (from yfinance) (2023.3.post1)\n",
      "Collecting frozendict>=2.3.4 (from yfinance)\n",
      "  Using cached frozendict-2.3.8-cp39-cp39-win_amd64.whl (35 kB)\n",
      "Requirement already satisfied: peewee>=3.16.2 in c:\\users\\admin\\anaconda3\\lib\\site-packages (from yfinance) (3.16.3)\n",
      "Requirement already satisfied: beautifulsoup4>=4.11.1 in c:\\users\\admin\\anaconda3\\lib\\site-packages (from yfinance) (4.11.1)\n",
      "Collecting html5lib>=1.1 (from yfinance)\n",
      "  Using cached html5lib-1.1-py2.py3-none-any.whl (112 kB)\n",
      "Requirement already satisfied: soupsieve>1.2 in c:\\users\\admin\\anaconda3\\lib\\site-packages (from beautifulsoup4>=4.11.1->yfinance) (2.3.1)\n",
      "Requirement already satisfied: six>=1.9 in c:\\users\\admin\\anaconda3\\lib\\site-packages (from html5lib>=1.1->yfinance) (1.16.0)\n",
      "Requirement already satisfied: webencodings in c:\\users\\admin\\anaconda3\\lib\\site-packages (from html5lib>=1.1->yfinance) (0.5.1)\n",
      "Requirement already satisfied: python-dateutil>=2.8.1 in c:\\users\\admin\\anaconda3\\lib\\site-packages (from pandas>=1.3.0->yfinance) (2.8.2)\n",
      "Requirement already satisfied: charset-normalizer<4,>=2 in c:\\users\\admin\\anaconda3\\lib\\site-packages (from requests>=2.31->yfinance) (2.0.4)\n",
      "Requirement already satisfied: idna<4,>=2.5 in c:\\users\\admin\\anaconda3\\lib\\site-packages (from requests>=2.31->yfinance) (3.3)\n",
      "Requirement already satisfied: urllib3<3,>=1.21.1 in c:\\users\\admin\\anaconda3\\lib\\site-packages (from requests>=2.31->yfinance) (1.26.16)\n",
      "Requirement already satisfied: certifi>=2017.4.17 in c:\\users\\admin\\anaconda3\\lib\\site-packages (from requests>=2.31->yfinance) (2021.10.8)\n",
      "Using cached yfinance-0.2.30-py2.py3-none-any.whl (65 kB)\n",
      "Installing collected packages: html5lib, frozendict, yfinance\n",
      "Successfully installed frozendict-2.3.8 html5lib-1.1 yfinance-0.2.30\n"
     ]
    }
   ],
   "source": [
    "pip install yfinance"
   ]
  },
  {
   "cell_type": "markdown",
   "id": "cc8717f8",
   "metadata": {},
   "source": [
    "## Importing Libraries "
   ]
  },
  {
   "cell_type": "code",
   "execution_count": 7,
   "id": "ef9bffb5",
   "metadata": {},
   "outputs": [],
   "source": [
    "#Basics library\n",
    "import numpy as np\n",
    "import pandas as pd\n",
    "import matplotlib.pyplot as plt\n",
    "import seaborn as sns\n",
    "from datetime import datetime\n",
    "import yfinance as yf\n",
    "\n",
    "from sklearn.preprocessing import MinMaxScaler\n",
    "from sklearn.metrics import mean_squared_error\n",
    "\n",
    "#Neural Network\n",
    "from tensorflow.keras.models import Sequential\n",
    "from tensorflow.keras.layers import Dense, LSTM, GRU\n",
    "from tensorflow.keras.optimizers import SGD\n",
    "from tensorflow.random import set_seed\n",
    "\n",
    "from pandas_datareader.data import DataReader#to retrieve financial data\n",
    "\n",
    "import warnings\n",
    "warnings.simplefilter(\"ignore\")"
   ]
  },
  {
   "cell_type": "markdown",
   "id": "64782daf",
   "metadata": {},
   "source": [
    "## Download apple stock prices "
   ]
  },
  {
   "cell_type": "code",
   "execution_count": 11,
   "id": "27224888",
   "metadata": {},
   "outputs": [
    {
     "name": "stdout",
     "output_type": "stream",
     "text": [
      "[*********************100%%**********************]  1 of 1 completed\n"
     ]
    }
   ],
   "source": [
    "end = datetime.now()\n",
    "start = datetime(2018, end.month, end.day)\n",
    "dataset = yf.download(\"AAPL\", start, end)"
   ]
  },
  {
   "cell_type": "code",
   "execution_count": 12,
   "id": "664b6073",
   "metadata": {},
   "outputs": [
    {
     "data": {
      "text/html": [
       "<div>\n",
       "<style scoped>\n",
       "    .dataframe tbody tr th:only-of-type {\n",
       "        vertical-align: middle;\n",
       "    }\n",
       "\n",
       "    .dataframe tbody tr th {\n",
       "        vertical-align: top;\n",
       "    }\n",
       "\n",
       "    .dataframe thead th {\n",
       "        text-align: right;\n",
       "    }\n",
       "</style>\n",
       "<table border=\"1\" class=\"dataframe\">\n",
       "  <thead>\n",
       "    <tr style=\"text-align: right;\">\n",
       "      <th></th>\n",
       "      <th>Open</th>\n",
       "      <th>High</th>\n",
       "      <th>Low</th>\n",
       "      <th>Close</th>\n",
       "      <th>Adj Close</th>\n",
       "      <th>Volume</th>\n",
       "    </tr>\n",
       "    <tr>\n",
       "      <th>Date</th>\n",
       "      <th></th>\n",
       "      <th></th>\n",
       "      <th></th>\n",
       "      <th></th>\n",
       "      <th></th>\n",
       "      <th></th>\n",
       "    </tr>\n",
       "  </thead>\n",
       "  <tbody>\n",
       "    <tr>\n",
       "      <th>2018-10-04</th>\n",
       "      <td>57.695000</td>\n",
       "      <td>58.087502</td>\n",
       "      <td>56.682499</td>\n",
       "      <td>56.997501</td>\n",
       "      <td>54.588417</td>\n",
       "      <td>128168000</td>\n",
       "    </tr>\n",
       "    <tr>\n",
       "      <th>2018-10-05</th>\n",
       "      <td>56.990002</td>\n",
       "      <td>57.102501</td>\n",
       "      <td>55.145000</td>\n",
       "      <td>56.072498</td>\n",
       "      <td>53.702522</td>\n",
       "      <td>134322000</td>\n",
       "    </tr>\n",
       "    <tr>\n",
       "      <th>2018-10-08</th>\n",
       "      <td>55.552502</td>\n",
       "      <td>56.200001</td>\n",
       "      <td>55.049999</td>\n",
       "      <td>55.942501</td>\n",
       "      <td>53.578018</td>\n",
       "      <td>118655600</td>\n",
       "    </tr>\n",
       "    <tr>\n",
       "      <th>2018-10-09</th>\n",
       "      <td>55.910000</td>\n",
       "      <td>56.817501</td>\n",
       "      <td>55.562500</td>\n",
       "      <td>56.717499</td>\n",
       "      <td>54.320271</td>\n",
       "      <td>107564000</td>\n",
       "    </tr>\n",
       "    <tr>\n",
       "      <th>2018-10-10</th>\n",
       "      <td>56.365002</td>\n",
       "      <td>56.587502</td>\n",
       "      <td>54.012501</td>\n",
       "      <td>54.090000</td>\n",
       "      <td>51.803822</td>\n",
       "      <td>167962400</td>\n",
       "    </tr>\n",
       "    <tr>\n",
       "      <th>...</th>\n",
       "      <td>...</td>\n",
       "      <td>...</td>\n",
       "      <td>...</td>\n",
       "      <td>...</td>\n",
       "      <td>...</td>\n",
       "      <td>...</td>\n",
       "    </tr>\n",
       "    <tr>\n",
       "      <th>2023-09-27</th>\n",
       "      <td>172.619995</td>\n",
       "      <td>173.039993</td>\n",
       "      <td>169.050003</td>\n",
       "      <td>170.429993</td>\n",
       "      <td>170.429993</td>\n",
       "      <td>66921800</td>\n",
       "    </tr>\n",
       "    <tr>\n",
       "      <th>2023-09-28</th>\n",
       "      <td>169.339996</td>\n",
       "      <td>172.029999</td>\n",
       "      <td>167.619995</td>\n",
       "      <td>170.690002</td>\n",
       "      <td>170.690002</td>\n",
       "      <td>56294400</td>\n",
       "    </tr>\n",
       "    <tr>\n",
       "      <th>2023-09-29</th>\n",
       "      <td>172.020004</td>\n",
       "      <td>173.070007</td>\n",
       "      <td>170.339996</td>\n",
       "      <td>171.210007</td>\n",
       "      <td>171.210007</td>\n",
       "      <td>51814200</td>\n",
       "    </tr>\n",
       "    <tr>\n",
       "      <th>2023-10-02</th>\n",
       "      <td>171.220001</td>\n",
       "      <td>174.300003</td>\n",
       "      <td>170.929993</td>\n",
       "      <td>173.750000</td>\n",
       "      <td>173.750000</td>\n",
       "      <td>52164500</td>\n",
       "    </tr>\n",
       "    <tr>\n",
       "      <th>2023-10-03</th>\n",
       "      <td>172.259995</td>\n",
       "      <td>173.630005</td>\n",
       "      <td>170.820007</td>\n",
       "      <td>172.399994</td>\n",
       "      <td>172.399994</td>\n",
       "      <td>49381900</td>\n",
       "    </tr>\n",
       "  </tbody>\n",
       "</table>\n",
       "<p>1257 rows × 6 columns</p>\n",
       "</div>"
      ],
      "text/plain": [
       "                  Open        High         Low       Close   Adj Close  \\\n",
       "Date                                                                     \n",
       "2018-10-04   57.695000   58.087502   56.682499   56.997501   54.588417   \n",
       "2018-10-05   56.990002   57.102501   55.145000   56.072498   53.702522   \n",
       "2018-10-08   55.552502   56.200001   55.049999   55.942501   53.578018   \n",
       "2018-10-09   55.910000   56.817501   55.562500   56.717499   54.320271   \n",
       "2018-10-10   56.365002   56.587502   54.012501   54.090000   51.803822   \n",
       "...                ...         ...         ...         ...         ...   \n",
       "2023-09-27  172.619995  173.039993  169.050003  170.429993  170.429993   \n",
       "2023-09-28  169.339996  172.029999  167.619995  170.690002  170.690002   \n",
       "2023-09-29  172.020004  173.070007  170.339996  171.210007  171.210007   \n",
       "2023-10-02  171.220001  174.300003  170.929993  173.750000  173.750000   \n",
       "2023-10-03  172.259995  173.630005  170.820007  172.399994  172.399994   \n",
       "\n",
       "               Volume  \n",
       "Date                   \n",
       "2018-10-04  128168000  \n",
       "2018-10-05  134322000  \n",
       "2018-10-08  118655600  \n",
       "2018-10-09  107564000  \n",
       "2018-10-10  167962400  \n",
       "...               ...  \n",
       "2023-09-27   66921800  \n",
       "2023-09-28   56294400  \n",
       "2023-09-29   51814200  \n",
       "2023-10-02   52164500  \n",
       "2023-10-03   49381900  \n",
       "\n",
       "[1257 rows x 6 columns]"
      ]
     },
     "execution_count": 12,
     "metadata": {},
     "output_type": "execute_result"
    }
   ],
   "source": [
    "dataset"
   ]
  },
  {
   "cell_type": "code",
   "execution_count": 65,
   "id": "d5c9cafd",
   "metadata": {},
   "outputs": [
    {
     "name": "stdout",
     "output_type": "stream",
     "text": [
      "[*********************100%%**********************]  1 of 1 completed\n",
      "                                 Open        High         Low       Close  \\\n",
      "Datetime                                                                    \n",
      "2023-10-03 09:30:00-04:00  172.255005  172.850006  172.210007  172.630005   \n",
      "2023-10-03 09:31:00-04:00  172.630005  172.750000  172.460007  172.570007   \n",
      "2023-10-03 09:32:00-04:00  172.550003  172.770004  172.391403  172.759995   \n",
      "2023-10-03 09:33:00-04:00  172.754105  172.929993  172.720001  172.729996   \n",
      "2023-10-03 09:34:00-04:00  172.729996  172.868500  172.649994  172.725006   \n",
      "\n",
      "                            Adj Close   Volume  \n",
      "Datetime                                        \n",
      "2023-10-03 09:30:00-04:00  172.630005  1267514  \n",
      "2023-10-03 09:31:00-04:00  172.570007   178591  \n",
      "2023-10-03 09:32:00-04:00  172.759995   183101  \n",
      "2023-10-03 09:33:00-04:00  172.729996   143757  \n",
      "2023-10-03 09:34:00-04:00  172.725006   127987  \n",
      "Datetime\n",
      "2023-10-03 09:30:00-04:00    1\n",
      "2023-10-03 09:31:00-04:00    1\n",
      "2023-10-03 09:32:00-04:00    1\n",
      "2023-10-03 09:33:00-04:00    1\n",
      "2023-10-03 09:34:00-04:00    1\n",
      "                            ..\n",
      "2023-10-03 15:55:00-04:00    1\n",
      "2023-10-03 15:56:00-04:00    1\n",
      "2023-10-03 15:57:00-04:00    1\n",
      "2023-10-03 15:58:00-04:00    1\n",
      "2023-10-03 15:59:00-04:00    1\n",
      "Length: 390, dtype: int64\n"
     ]
    }
   ],
   "source": [
    "import yfinance as yf\n",
    "import pandas as pd\n",
    "\n",
    "symbol = 'AAPL'\n",
    "\n",
    "stock_data = yf.download(symbol, period='1d', interval='1m')\n",
    "\n",
    "print(stock_data.head())\n",
    "\n",
    "minute_counts = stock_data.groupby(stock_data.index).size()\n",
    "print(minute_counts)\n",
    "#To get the frequncy count of particular data"
   ]
  },
  {
   "cell_type": "code",
   "execution_count": null,
   "id": "a4746823",
   "metadata": {},
   "outputs": [],
   "source": [
    "#As we are targetting towards high column"
   ]
  },
  {
   "cell_type": "code",
   "execution_count": 20,
   "id": "ea4072f6",
   "metadata": {},
   "outputs": [
    {
     "data": {
      "image/png": "[encoded data removed]",
      "text/plain": [
       "<Figure size 1152x288 with 1 Axes>"
      ]
     },
     "metadata": {
      "needs_background": "light"
     },
     "output_type": "display_data"
    }
   ],
   "source": [
    "tstart = 2018\n",
    "tend = 2022\n",
    "\n",
    "def train_test_plot(dataset, tstart, tend):\n",
    "    dataset.loc[f\"{tstart}\":f\"{tend}\", \"High\"].plot(figsize=(16, 4), legend=True)\n",
    "    dataset.loc[f\"{tend+1}\":, \"High\"].plot(figsize=(16, 4), legend=True)\n",
    "    plt.legend([f\"Train (Before {tend+1})\", f\"Test ({tend+1} and beyond)\"])\n",
    "    plt.title(\"APPLE stock price\")\n",
    "    plt.show()\n",
    "\n",
    "train_test_plot(dataset,tstart,tend)"
   ]
  },
  {
   "cell_type": "code",
   "execution_count": 21,
   "id": "08f127bb",
   "metadata": {},
   "outputs": [],
   "source": [
    "def train_test_split(dataset, tstart, tend):\n",
    "    train = dataset.loc[f\"{tstart}\":f\"{tend}\", \"High\"]\n",
    "    test = dataset.loc[f\"{tend+1}\":, \"High\"]\n",
    "    return train, test"
   ]
  },
  {
   "cell_type": "code",
   "execution_count": 22,
   "id": "252754a7",
   "metadata": {},
   "outputs": [
    {
     "name": "stdout",
     "output_type": "stream",
     "text": [
      "\n",
      "Test Data:\n",
      "Date\n",
      "2023-01-03    130.899994\n",
      "2023-01-04    128.660004\n",
      "2023-01-05    127.769997\n",
      "2023-01-06    130.289993\n",
      "2023-01-09    133.410004\n",
      "                 ...    \n",
      "2023-09-27    173.039993\n",
      "2023-09-28    172.029999\n",
      "2023-09-29    173.070007\n",
      "2023-10-02    174.300003\n",
      "2023-10-03    173.630005\n",
      "Name: High, Length: 189, dtype: float64\n"
     ]
    }
   ],
   "source": [
    "train_data, test_data = train_test_split(dataset, tstart, tend)\n",
    "print(test_data)"
   ]
  },
  {
   "cell_type": "code",
   "execution_count": 23,
   "id": "f3308d72",
   "metadata": {},
   "outputs": [],
   "source": [
    "def train_test_split_values(dataset, tstart, tend):\n",
    "    train, test =  train_test_split(dataset, tstart, tend)\n",
    "    return train.values, test.values\n",
    "\n",
    "training_set, test_set = train_test_split_values(dataset, tstart, tend)"
   ]
  },
  {
   "cell_type": "code",
   "execution_count": 24,
   "id": "88497086",
   "metadata": {},
   "outputs": [
    {
     "data": {
      "text/plain": [
       "array([130.8999939 , 128.66000366, 127.76999664, 130.28999329,\n",
       "       133.41000366, 131.25999451, 133.50999451, 134.25999451,\n",
       "       134.91999817, 137.28999329, 138.61000061, 136.25      ,\n",
       "       138.02000427, 143.32000732, 143.16000366, 142.42999268,\n",
       "       144.25      , 147.22999573, 145.55000305, 144.33999634,\n",
       "       146.61000061, 151.17999268, 157.38000488, 153.1000061 ,\n",
       "       155.22999573, 154.58000183, 154.33000183, 151.33999634,\n",
       "       154.25999451, 153.77000427, 155.5       , 156.33000183,\n",
       "       153.        , 151.30000305, 149.94999695, 150.33999634,\n",
       "       147.19000244, 149.16999817, 149.08000183, 147.22999573,\n",
       "       146.71000671, 151.11000061, 156.30000305, 154.02999878,\n",
       "       153.47000122, 154.53999329, 150.94000244, 153.13999939,\n",
       "       153.3999939 , 153.25      , 156.46000671, 156.74000549,\n",
       "       157.82000732, 159.3999939 , 162.13999939, 161.55000305,\n",
       "       160.33999634, 160.77000427, 158.49000549, 161.05000305,\n",
       "       162.47000122, 165.        , 166.28999329, 166.83999634,\n",
       "       165.05000305, 164.96000671, 162.02999878, 162.36000061,\n",
       "       162.05999756, 165.80000305, 166.32000732, 165.38999939,\n",
       "       167.41000366, 168.16000366, 167.86999512, 166.44999695,\n",
       "       165.6000061 , 166.30999756, 165.27999878, 168.55999756,\n",
       "       169.8500061 , 170.44999695, 170.3500061 , 170.91999817,\n",
       "       167.03999329, 174.30000305, 173.8500061 , 173.53999329,\n",
       "       174.02999878, 174.58999634, 174.05999756, 173.21000671,\n",
       "       173.13999939, 172.92999268, 175.24000549, 176.38999939,\n",
       "       174.71000671, 173.38000488, 172.41999817, 173.8999939 ,\n",
       "       175.77000427, 178.99000549, 179.3500061 , 180.11999512,\n",
       "       181.77999878, 184.94999695, 180.11999512, 181.21000671,\n",
       "       180.83999634, 182.22999573, 183.88999939, 184.1499939 ,\n",
       "       184.38999939, 186.52000427, 186.99000549, 186.1000061 ,\n",
       "       185.41000366, 187.05000305, 187.55999756, 188.05000305,\n",
       "       188.38999939, 189.8999939 , 190.07000732, 194.47999573,\n",
       "       193.88000488, 192.97999573, 192.02000427, 192.66999817,\n",
       "       189.99000549, 189.30000305, 191.69999695, 191.19000244,\n",
       "       191.17999268, 194.32000732, 194.33000183, 198.22999573,\n",
       "       196.47000122, 194.97000122, 194.91000366, 194.44000244,\n",
       "       195.63999939, 197.19999695, 196.63000488, 196.49000549,\n",
       "       196.72999573, 195.17999268, 192.36999512, 187.38000488,\n",
       "       183.13000488, 180.27000427, 180.92999268, 180.75      ,\n",
       "       178.61999512, 179.69000244, 179.47999573, 178.53999329,\n",
       "       177.50999451, 175.1000061 , 176.13000488, 177.67999268,\n",
       "       181.55000305, 181.1000061 , 179.1499939 , 180.58999634,\n",
       "       184.8999939 , 187.8500061 , 189.11999512, 189.91999817,\n",
       "       189.97999573, 188.8500061 , 178.21000671, 180.24000549,\n",
       "       180.30000305, 180.13000488, 177.30000305, 176.1000061 ,\n",
       "       176.5       , 179.38000488, 179.63000488, 179.69999695,\n",
       "       176.30000305, 177.08000183, 176.97000122, 175.19999695,\n",
       "       173.03999329, 172.02999878, 173.07000732, 174.30000305,\n",
       "       173.63000488])"
      ]
     },
     "execution_count": 24,
     "metadata": {},
     "output_type": "execute_result"
    }
   ],
   "source": [
    "test_set"
   ]
  },
  {
   "cell_type": "code",
   "execution_count": 25,
   "id": "8d7fbed8",
   "metadata": {},
   "outputs": [
    {
     "data": {
      "text/plain": [
       "array([[0.14782268],\n",
       "       [0.14109959],\n",
       "       [0.1349396 ],\n",
       "       ...,\n",
       "       [0.64568969],\n",
       "       [0.64193566],\n",
       "       [0.63831817]])"
      ]
     },
     "execution_count": 25,
     "metadata": {},
     "output_type": "execute_result"
    }
   ],
   "source": [
    "# Scaling the training set\n",
    "sc = MinMaxScaler(feature_range=(0, 1))\n",
    "training_set = training_set.reshape(-1, 1)\n",
    "training_set_scaled = sc.fit_transform(training_set)\n",
    "training_set_scaled"
   ]
  },
  {
   "cell_type": "markdown",
   "id": "e8d38c3a",
   "metadata": {},
   "source": [
    "## Data Preparation "
   ]
  },
  {
   "cell_type": "code",
   "execution_count": 26,
   "id": "28cc7105",
   "metadata": {},
   "outputs": [],
   "source": [
    "def split_sequence(sequence, window):\n",
    "    X, y = list(), list()\n",
    "    for i in range(len(sequence)):\n",
    "        end_ix = i + window\n",
    "        if end_ix > len(sequence) - 1:\n",
    "            break\n",
    "        seq_x, seq_y = sequence[i:end_ix], sequence[end_ix]\n",
    "        X.append(seq_x)\n",
    "        y.append(seq_y)\n",
    "    return np.array(X), np.array(y)\n",
    "\n",
    "window_size = 60\n",
    "features = 1\n",
    "\n",
    "X_train, y_train = split_sequence(training_set_scaled, window_size)"
   ]
  },
  {
   "cell_type": "code",
   "execution_count": 29,
   "id": "47ceece0",
   "metadata": {},
   "outputs": [
    {
     "data": {
      "text/plain": [
       "array([[0.02240462],\n",
       "       [0.        ],\n",
       "       [0.00482902],\n",
       "       ...,\n",
       "       [0.64568969],\n",
       "       [0.64193566],\n",
       "       [0.63831817]])"
      ]
     },
     "execution_count": 29,
     "metadata": {},
     "output_type": "execute_result"
    }
   ],
   "source": [
    "y_train"
   ]
  },
  {
   "cell_type": "code",
   "execution_count": 30,
   "id": "beebe4ae",
   "metadata": {},
   "outputs": [],
   "source": [
    "X_train = X_train.reshape(X_train.shape[0],X_train.shape[1],features)"
   ]
  },
  {
   "cell_type": "code",
   "execution_count": 31,
   "id": "64dacb6e",
   "metadata": {},
   "outputs": [
    {
     "data": {
      "text/plain": [
       "array([[[0.14782268],\n",
       "        [0.14109959],\n",
       "        [0.1349396 ],\n",
       "        ...,\n",
       "        [0.01885537],\n",
       "        [0.02184152],\n",
       "        [0.02327486]],\n",
       "\n",
       "       [[0.14109959],\n",
       "        [0.1349396 ],\n",
       "        [0.13915433],\n",
       "        ...,\n",
       "        [0.02184152],\n",
       "        [0.02327486],\n",
       "        [0.02240462]],\n",
       "\n",
       "       [[0.1349396 ],\n",
       "        [0.13915433],\n",
       "        [0.13758447],\n",
       "        ...,\n",
       "        [0.02327486],\n",
       "        [0.02240462],\n",
       "        [0.        ]],\n",
       "\n",
       "       ...,\n",
       "\n",
       "       [[0.72786844],\n",
       "        [0.74936864],\n",
       "        [0.75728621],\n",
       "        ...,\n",
       "        [0.6697836 ],\n",
       "        [0.6551771 ],\n",
       "        [0.64828341]],\n",
       "\n",
       "       [[0.74936864],\n",
       "        [0.75728621],\n",
       "        [0.75837821],\n",
       "        ...,\n",
       "        [0.6551771 ],\n",
       "        [0.64828341],\n",
       "        [0.64568969]],\n",
       "\n",
       "       [[0.75728621],\n",
       "        [0.75837821],\n",
       "        [0.7280732 ],\n",
       "        ...,\n",
       "        [0.64828341],\n",
       "        [0.64568969],\n",
       "        [0.64193566]]])"
      ]
     },
     "execution_count": 31,
     "metadata": {},
     "output_type": "execute_result"
    }
   ],
   "source": [
    "X_train"
   ]
  },
  {
   "cell_type": "markdown",
   "id": "6be78312",
   "metadata": {},
   "source": [
    "## Model training & Testing LSTM neural network "
   ]
  },
  {
   "cell_type": "code",
   "execution_count": 32,
   "id": "c10a90d0",
   "metadata": {},
   "outputs": [
    {
     "name": "stdout",
     "output_type": "stream",
     "text": [
      "Model: \"sequential\"\n",
      "_________________________________________________________________\n",
      " Layer (type)                Output Shape              Param #   \n",
      "=================================================================\n",
      " lstm (LSTM)                 (None, 125)               63500     \n",
      "                                                                 \n",
      " dense (Dense)               (None, 25)                3150      \n",
      "                                                                 \n",
      " dense_1 (Dense)             (None, 1)                 26        \n",
      "                                                                 \n",
      "=================================================================\n",
      "Total params: 66,676\n",
      "Trainable params: 66,676\n",
      "Non-trainable params: 0\n",
      "_________________________________________________________________\n"
     ]
    }
   ],
   "source": [
    "model_lstm = Sequential()\n",
    "model_lstm.add(LSTM(units=125, activation=\"tanh\", input_shape=(window_size, features)))\n",
    "model_lstm.add(Dense(25))\n",
    "model_lstm.add(Dense(units=1))\n",
    "\n",
    "model_lstm.compile(optimizer='adam', loss='mse')\n",
    "\n",
    "model_lstm.summary()"
   ]
  },
  {
   "cell_type": "code",
   "execution_count": 33,
   "id": "9ce0166c",
   "metadata": {},
   "outputs": [
    {
     "name": "stdout",
     "output_type": "stream",
     "text": [
      "Epoch 1/15\n",
      "32/32 [==============================] - 11s 97ms/step - loss: 0.0379\n",
      "Epoch 2/15\n",
      "32/32 [==============================] - 3s 91ms/step - loss: 0.0014\n",
      "Epoch 3/15\n",
      "32/32 [==============================] - 3s 88ms/step - loss: 7.6821e-04\n",
      "Epoch 4/15\n",
      "32/32 [==============================] - 3s 105ms/step - loss: 7.5355e-04\n",
      "Epoch 5/15\n",
      "32/32 [==============================] - 3s 105ms/step - loss: 7.7706e-04\n",
      "Epoch 6/15\n",
      "32/32 [==============================] - 3s 100ms/step - loss: 7.2852e-04\n",
      "Epoch 7/15\n",
      "32/32 [==============================] - 3s 105ms/step - loss: 7.1776e-04\n",
      "Epoch 8/15\n",
      "32/32 [==============================] - 3s 105ms/step - loss: 7.0880e-04\n",
      "Epoch 9/15\n",
      "32/32 [==============================] - 3s 81ms/step - loss: 7.1643e-04\n",
      "Epoch 10/15\n",
      "32/32 [==============================] - 3s 81ms/step - loss: 6.5469e-04\n",
      "Epoch 11/15\n",
      "32/32 [==============================] - 3s 85ms/step - loss: 6.4804e-04\n",
      "Epoch 12/15\n",
      "32/32 [==============================] - 3s 89ms/step - loss: 6.2184e-04\n",
      "Epoch 13/15\n",
      "32/32 [==============================] - 3s 87ms/step - loss: 6.7048e-04\n",
      "Epoch 14/15\n",
      "32/32 [==============================] - 3s 90ms/step - loss: 6.3685e-04\n",
      "Epoch 15/15\n",
      "32/32 [==============================] - 3s 92ms/step - loss: 6.0721e-04\n"
     ]
    },
    {
     "data": {
      "text/plain": [
       "<keras.callbacks.History at 0x2ebfa6d1f40>"
      ]
     },
     "execution_count": 33,
     "metadata": {},
     "output_type": "execute_result"
    }
   ],
   "source": [
    "model_lstm.fit(X_train, y_train, epochs=15, batch_size=32)"
   ]
  },
  {
   "cell_type": "code",
   "execution_count": 34,
   "id": "0112e429",
   "metadata": {},
   "outputs": [],
   "source": [
    "dataset_total = dataset.loc[:,\"High\"]\n",
    "inputs = dataset_total[len(dataset_total) - len(test_set) - window_size :].values\n",
    "inputs = inputs.reshape(-1, 1)\n",
    "inputs = sc.transform(inputs)"
   ]
  },
  {
   "cell_type": "code",
   "execution_count": 35,
   "id": "d6aa52b4",
   "metadata": {},
   "outputs": [
    {
     "name": "stdout",
     "output_type": "stream",
     "text": [
      "6/6 [==============================] - 2s 35ms/step\n"
     ]
    }
   ],
   "source": [
    "X_test, y_test = split_sequence(inputs, window_size)\n",
    "X_test = X_test.reshape(X_test.shape[0], X_test.shape[1], features)\n",
    "predicted_stock_price = model_lstm.predict(X_test)\n",
    "predicted_stock_price = sc.inverse_transform(predicted_stock_price)\n",
    "y_test = sc.inverse_transform(y_test)"
   ]
  },
  {
   "cell_type": "code",
   "execution_count": 36,
   "id": "80f3492f",
   "metadata": {},
   "outputs": [],
   "source": [
    "def plot_predictions(test, predicted):\n",
    "    plt.plot(test, color=\"gray\", label=\"Real\")\n",
    "    plt.plot(predicted, color=\"red\", label=\"Predicted\")\n",
    "    plt.title(\"Stock Price Prediction\")\n",
    "    plt.xlabel(\"Time\")\n",
    "    plt.ylabel(\"Stock Price\")\n",
    "    plt.legend()\n",
    "    plt.show()\n",
    "\n",
    "\n",
    "def return_rmse(test, predicted):\n",
    "    rmse = np.sqrt(mean_squared_error(test, predicted))\n",
    "    print(\"The root mean squared error is {:.2f}.\".format(rmse))"
   ]
  },
  {
   "cell_type": "code",
   "execution_count": 47,
   "id": "886201fb",
   "metadata": {},
   "outputs": [
    {
     "data": {
      "image/png": "[encoded data removed]",
      "text/plain": [
       "<Figure size 432x288 with 1 Axes>"
      ]
     },
     "metadata": {
      "needs_background": "light"
     },
     "output_type": "display_data"
    }
   ],
   "source": [
    "plot_predictions(y_test,predicted_stock_price)"
   ]
  },
  {
   "cell_type": "code",
   "execution_count": 38,
   "id": "0a957fde",
   "metadata": {},
   "outputs": [
    {
     "name": "stdout",
     "output_type": "stream",
     "text": [
      "The root mean squared error is 3.46.\n"
     ]
    }
   ],
   "source": [
    "return_rmse(y_test,predicted_stock_price)"
   ]
  },
  {
   "cell_type": "markdown",
   "id": "acc2dedf",
   "metadata": {},
   "source": [
    "## GRU "
   ]
  },
  {
   "cell_type": "code",
   "execution_count": 39,
   "id": "c1abde0d",
   "metadata": {},
   "outputs": [
    {
     "name": "stdout",
     "output_type": "stream",
     "text": [
      "Model: \"sequential_1\"\n",
      "_________________________________________________________________\n",
      " Layer (type)                Output Shape              Param #   \n",
      "=================================================================\n",
      " gru (GRU)                   (None, 125)               48000     \n",
      "                                                                 \n",
      " dense_2 (Dense)             (None, 1)                 126       \n",
      "                                                                 \n",
      "=================================================================\n",
      "Total params: 48,126\n",
      "Trainable params: 48,126\n",
      "Non-trainable params: 0\n",
      "_________________________________________________________________\n"
     ]
    }
   ],
   "source": [
    "model_gru = Sequential()\n",
    "model_gru.add(GRU(units=125, activation=\"tanh\", input_shape=(window_size, features)))\n",
    "model_gru.add(Dense(units=1))\n",
    "\n",
    "model_gru.compile(optimizer=\"adam\", loss=\"mse\")\n",
    "\n",
    "model_gru.summary()"
   ]
  },
  {
   "cell_type": "code",
   "execution_count": 40,
   "id": "a7760ddb",
   "metadata": {},
   "outputs": [
    {
     "name": "stdout",
     "output_type": "stream",
     "text": [
      "Epoch 1/10\n",
      "32/32 [==============================] - 9s 74ms/step - loss: 0.0292\n",
      "Epoch 2/10\n",
      "32/32 [==============================] - 2s 78ms/step - loss: 0.0014\n",
      "Epoch 3/10\n",
      "32/32 [==============================] - 3s 78ms/step - loss: 4.5424e-04\n",
      "Epoch 4/10\n",
      "32/32 [==============================] - 3s 78ms/step - loss: 4.3682e-04\n",
      "Epoch 5/10\n",
      "32/32 [==============================] - 3s 78ms/step - loss: 4.2301e-04\n",
      "Epoch 6/10\n",
      "32/32 [==============================] - 3s 81ms/step - loss: 4.0680e-04\n",
      "Epoch 7/10\n",
      "32/32 [==============================] - 3s 80ms/step - loss: 3.9453e-04\n",
      "Epoch 8/10\n",
      "32/32 [==============================] - 2s 75ms/step - loss: 3.7213e-04\n",
      "Epoch 9/10\n",
      "32/32 [==============================] - 2s 73ms/step - loss: 3.6314e-04\n",
      "Epoch 10/10\n",
      "32/32 [==============================] - 2s 78ms/step - loss: 3.6777e-04\n"
     ]
    },
    {
     "data": {
      "text/plain": [
       "<keras.callbacks.History at 0x2ebfeda8fd0>"
      ]
     },
     "execution_count": 40,
     "metadata": {},
     "output_type": "execute_result"
    }
   ],
   "source": [
    "model_gru.fit(X_train, y_train, epochs=10, batch_size=32)"
   ]
  },
  {
   "cell_type": "code",
   "execution_count": 41,
   "id": "98870963",
   "metadata": {},
   "outputs": [
    {
     "name": "stdout",
     "output_type": "stream",
     "text": [
      "6/6 [==============================] - 0s 12ms/step\n"
     ]
    }
   ],
   "source": [
    "GRU_predicted_stock_price = model_gru.predict(X_test)\n",
    "GRU_predicted_stock_price = sc.inverse_transform(GRU_predicted_stock_price)"
   ]
  },
  {
   "cell_type": "code",
   "execution_count": 42,
   "id": "59abb984",
   "metadata": {},
   "outputs": [
    {
     "data": {
      "image/png": "[encoded data removed]",
      "text/plain": [
       "<Figure size 432x288 with 1 Axes>"
      ]
     },
     "metadata": {
      "needs_background": "light"
     },
     "output_type": "display_data"
    }
   ],
   "source": [
    "plot_predictions(y_test, GRU_predicted_stock_price)"
   ]
  },
  {
   "cell_type": "code",
   "execution_count": 48,
   "id": "96f1699d",
   "metadata": {},
   "outputs": [
    {
     "name": "stdout",
     "output_type": "stream",
     "text": [
      "The root mean squared error is 2.70.\n"
     ]
    }
   ],
   "source": [
    "return_rmse(y_test,GRU_predicted_stock_price)"
   ]
  }
 ],
 "metadata": {
  "kernelspec": {
   "display_name": "Python 3 (ipykernel)",
   "language": "python",
   "name": "python3"
  },
  "language_info": {
   "codemirror_mode": {
    "name": "ipython",
    "version": 3
   },
   "file_extension": ".py",
   "mimetype": "text/x-python",
   "name": "python",
   "nbconvert_exporter": "python",
   "pygments_lexer": "ipython3",
   "version": "3.9.12"
  }
 },
 "nbformat": 4,
 "nbformat_minor": 5
}
